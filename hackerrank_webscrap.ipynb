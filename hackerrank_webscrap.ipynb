{
 "cells": [
  {
   "cell_type": "code",
   "execution_count": 1,
   "metadata": {},
   "outputs": [
    {
     "name": "stdout",
     "output_type": "stream",
     "text": [
      "Avengers: Infinity War 149\n"
     ]
    }
   ],
   "source": [
    "# importing libraries\n",
    "import requests \n",
    "from bs4 import BeautifulSoup\n",
    "\n",
    "url = 'https://imdb.to/3CzG7te' # url to fetch from\n",
    "page = requests.get(url) # requesting url page\n",
    "soup = BeautifulSoup(page.content, 'html.parser') \n",
    "names = soup.findAll('h3', class_='lister-item-header') \n",
    "timings = soup.findAll('span', class_='runtime')\n",
    "movie_names = [] \n",
    "for i in names: \n",
    "    v = 0 \n",
    "    for j in i: \n",
    "        if v == 3: \n",
    "            movie_names.append(j.text) \n",
    "        v += 1\n",
    "        \n",
    "movie_runtimes = [] \n",
    "for i in timings: \n",
    "    val = i.text \n",
    "    val = val.split() \n",
    "    time = val[0] \n",
    "    movie_runtimes.append(time)\n",
    "\n",
    "# to get top 5 movies\n",
    "T1 = int(input('Please enter the T1 value : ')) - 1 # put 1 \n",
    "T2 = int(input('please enter the T2 value : ')) # put 5\n",
    "movie = {}\n",
    "for r in range(T1,T2):\n",
    "    movie[movie_names[r]] = movie_runtimes[r]\n",
    "\n",
    "\n",
    "# to get movies with max run time\n",
    "max_runtime = max(movie, key= lambda x: movie[x])\n",
    "print(max_runtime, movie.get(max_runtime))"
   ]
  }
 ],
 "metadata": {
  "kernelspec": {
   "display_name": "base",
   "language": "python",
   "name": "python3"
  },
  "language_info": {
   "codemirror_mode": {
    "name": "ipython",
    "version": 3
   },
   "file_extension": ".py",
   "mimetype": "text/x-python",
   "name": "python",
   "nbconvert_exporter": "python",
   "pygments_lexer": "ipython3",
   "version": "3.9.12"
  },
  "orig_nbformat": 4,
  "vscode": {
   "interpreter": {
    "hash": "7a15bcec7c0559c62175669ec6b991fdfb120f79b3044ee904eb55b269f77428"
   }
  }
 },
 "nbformat": 4,
 "nbformat_minor": 2
}
